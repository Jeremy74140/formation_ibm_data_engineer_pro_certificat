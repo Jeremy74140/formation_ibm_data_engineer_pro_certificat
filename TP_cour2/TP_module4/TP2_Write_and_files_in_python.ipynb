{
 "cells": [
  {
   "cell_type": "markdown",
   "id": "797a878a-08cb-4009-88cc-2edf242e9a62",
   "metadata": {},
   "source": [
    "<p style=\"text-align:center\">\n",
    "    <a href=\"https://skills.network\" target=\"_blank\">\n",
    "    <img src=\"https://cf-courses-data.s3.us.cloud-object-storage.appdomain.cloud/assets/logos/SN_web_lightmode.png\" width=\"200\" alt=\"Skills Network Logo\">\n",
    "    </a>\n",
    "</p>\n",
    "\n",
    "\n",
    "# Write and Save Files in Python\n",
    "\n",
    "\n",
    "Estimated time needed: **25** minutes\n",
    "    \n",
    "\n",
    "## Objectives\n",
    "\n",
    "After completing this lab you will be able to:\n",
    "\n",
    "* Write to files using Python libraries\n"
   ]
  },
  {
   "cell_type": "markdown",
   "id": "d8e1f070-1047-482d-ae49-dffd564cd14e",
   "metadata": {},
   "source": [
    "<h2>Table of Contents</h2>\n",
    "<div class=\"alert alert-block alert-info\" style=\"margin-top: 20px\">\n",
    "    <ul>\n",
    "        <li><a href=\"write\">Writing Files</a></li>\n",
    "        <li><a href=\"Append\">Appending Files</a></li>\n",
    "        <li><a href=\"add\">Additional File modes</a></li>\n",
    "        <li><a href=\"copy\">Copy a File</a></li>\n",
    "    </ul>\n",
    "\n",
    "</div>\n",
    "\n",
    "<hr>\n"
   ]
  },
  {
   "cell_type": "markdown",
   "id": "452a6a38-54ab-463b-a95d-9e6e02ed5ac9",
   "metadata": {},
   "source": [
    "<h2 id=\"write\">Writing Files</h2>\n"
   ]
  },
  {
   "cell_type": "markdown",
   "id": "ddb0f761-92f6-427d-842d-a3f06a96e057",
   "metadata": {},
   "source": [
    " We can open a file object using the method <code>write()</code> to save the text file to a list. To write to a file, the mode argument must be set to **w**. Let’s write a file **Example2.txt** with the line: **“This is line A”**\n",
    "\n",
    "\n",
    "Nous pouvons ouvrir un objet fichier avec la méthode <code>write()</code> pour enregistrer le fichier texte dans une liste. Pour écrire dans un fichier, l'argument mode doit être défini sur **w**. Écrivons un fichier **Exemple2.txt** avec la ligne : **« Ceci est la ligne A »**"
   ]
  },
  {
   "cell_type": "code",
   "execution_count": 1,
   "id": "35e31add-adce-40e6-9175-f8ecbe1b4aa3",
   "metadata": {},
   "outputs": [
    {
     "name": "stdout",
     "output_type": "stream",
     "text": [
      "False\n",
      "True\n"
     ]
    }
   ],
   "source": [
    "# Write line to file\n",
    "exmp2 = 'Example2.txt' \n",
    "with open(exmp2, 'w') as writefile:\n",
    "    writefile.write(\"This is line A\")\n",
    "    print(writefile.closed)\n",
    "\n",
    "print(writefile.closed)\n",
    "\n",
    "\n",
    "### OOOOKKKKKKKK\n"
   ]
  },
  {
   "cell_type": "markdown",
   "id": "7006da31-ece9-4519-8397-18da2534271c",
   "metadata": {},
   "source": [
    " We can read the file to see if it worked:\n"
   ]
  },
  {
   "cell_type": "code",
   "execution_count": 2,
   "id": "427d2285-ed1d-4b9e-acc9-e11ba2f044a5",
   "metadata": {},
   "outputs": [
    {
     "name": "stdout",
     "output_type": "stream",
     "text": [
      "This is line A\n"
     ]
    }
   ],
   "source": [
    "# Read file\n",
    "\n",
    "with open(exmp2, 'r') as testwritefile:\n",
    "    print(testwritefile.read())\n",
    "\n",
    "\n",
    "### OOOOKKKKKKKK"
   ]
  },
  {
   "cell_type": "markdown",
   "id": "af29e3d1-283f-4352-8787-8923e619ad22",
   "metadata": {},
   "source": [
    "We can write multiple lines:\n"
   ]
  },
  {
   "cell_type": "code",
   "execution_count": 3,
   "id": "89fcb3f5-2b43-4257-9426-cb3b8334fcbf",
   "metadata": {},
   "outputs": [],
   "source": [
    "# Write lines to file\n",
    "\n",
    "with open(exmp2, 'w') as writefile:\n",
    "    writefile.write(\"This is line B\\n\")\n",
    "    writefile.write(\"This is line C\\n\")\n",
    "\n",
    "\n",
    "### OOOOKKKKKKKK"
   ]
  },
  {
   "cell_type": "markdown",
   "id": "a3021a93-e83a-4f76-8194-e2fe44c19b83",
   "metadata": {},
   "source": [
    "The method <code>.write()</code> works similarly to the method <code>.readline()</code>, except instead of reading a new line it writes a new line. The process is illustrated in the figure. The different colour coding of the grid represents a new line added to the file after each method call.\n",
    "\n",
    "\n",
    "La méthode <code>.write()</code> fonctionne de manière similaire à la méthode <code>.readline()</code>, sauf qu'au lieu de lire une nouvelle ligne, elle en écrit une. Le processus est illustré dans la figure. Les différentes couleurs de la grille représentent une nouvelle ligne ajoutée au fichier après chaque appel de méthode."
   ]
  },
  {
   "cell_type": "markdown",
   "id": "94f143e7-7fbf-48c1-b41a-41795eb46095",
   "metadata": {},
   "source": [
    "<img src=\"https://cf-courses-data.s3.us.cloud-object-storage.appdomain.cloud/IBMDeveloperSkillsNetwork-PY0101EN-SkillsNetwork/labs/Module%204/images/WriteLine.png\" width=\"500\">\n"
   ]
  },
  {
   "cell_type": "markdown",
   "id": "42d4af75-ed8d-4a8f-bb7b-a3e6eef3accc",
   "metadata": {},
   "source": [
    "You can check the file to see if your results are correct. \n"
   ]
  },
  {
   "cell_type": "code",
   "execution_count": 5,
   "id": "40a2df5e-e9f8-45f6-8083-fee0fd9270c0",
   "metadata": {},
   "outputs": [
    {
     "name": "stdout",
     "output_type": "stream",
     "text": [
      "This is line B\n",
      "This is line C\n",
      "\n"
     ]
    }
   ],
   "source": [
    "# Check whether write to file\n",
    "\n",
    "with open(exmp2, 'r') as testwritefile:\n",
    "    print(testwritefile.read())\n",
    "\n",
    "### OOOOKKKKKKKK"
   ]
  },
  {
   "cell_type": "markdown",
   "id": "22f238e2-9be8-4352-b2ca-ac24e75525e7",
   "metadata": {},
   "source": [
    " We write a list to a **.txt** file  as follows:\n"
   ]
  },
  {
   "cell_type": "code",
   "execution_count": 6,
   "id": "40537774-e98d-490f-b1a0-a50ffc01d521",
   "metadata": {},
   "outputs": [
    {
     "data": {
      "text/plain": [
       "['This is line A\\n', 'This is line B\\n', 'This is line C\\n']"
      ]
     },
     "execution_count": 6,
     "metadata": {},
     "output_type": "execute_result"
    }
   ],
   "source": [
    "# Sample list of text\n",
    "\n",
    "Lines = [\"This is line A\\n\", \"This is line B\\n\", \"This is line C\\n\"]\n",
    "Lines\n",
    "\n",
    "### OOOOKKKKKKKK"
   ]
  },
  {
   "cell_type": "code",
   "execution_count": 7,
   "id": "3e4c5849-b5b9-46e7-98c1-a7edcbe0f87b",
   "metadata": {},
   "outputs": [
    {
     "name": "stdout",
     "output_type": "stream",
     "text": [
      "This is line A\n",
      "\n",
      "This is line B\n",
      "\n",
      "This is line C\n",
      "\n"
     ]
    }
   ],
   "source": [
    "# Write the strings in the list to text file\n",
    "\n",
    "with open('Example2.txt', 'w') as writefile:\n",
    "    for line in Lines:\n",
    "        print(line)\n",
    "        writefile.write(line)\n",
    "\n",
    "\n",
    "### OOOOKKKKKKKK"
   ]
  },
  {
   "cell_type": "markdown",
   "id": "f08c2259-5283-4a13-9b70-77d26bcbc64a",
   "metadata": {},
   "source": [
    " We can verify the file is written by reading it and printing out the values:  \n"
   ]
  },
  {
   "cell_type": "code",
   "execution_count": 8,
   "id": "f62730df-5144-41cd-8eaa-3f88eb606a5e",
   "metadata": {},
   "outputs": [
    {
     "name": "stdout",
     "output_type": "stream",
     "text": [
      "This is line A\n",
      "This is line B\n",
      "This is line C\n",
      "\n"
     ]
    }
   ],
   "source": [
    "# Verify if writing to file is successfully executed\n",
    "\n",
    "with open('Example2.txt', 'r') as testwritefile:\n",
    "    print(testwritefile.read())\n",
    "\n",
    "### OOOOKKKKKKKK"
   ]
  },
  {
   "cell_type": "markdown",
   "id": "e7123448-8fd9-49e2-b372-b340721c1ae5",
   "metadata": {},
   "source": [
    "However, note that setting the mode to __w__ overwrites all the existing data in the file.\n",
    "\n",
    "Cependant, notez que le fait de régler le mode sur __w__ écrase toutes les données existantes dans le fichier.\n"
   ]
  },
  {
   "cell_type": "code",
   "execution_count": 9,
   "id": "fbf84f9b-8df6-4743-b0d5-515394067723",
   "metadata": {},
   "outputs": [
    {
     "name": "stdout",
     "output_type": "stream",
     "text": [
      "This is line A\n",
      "This is line B\n",
      "This is line C\n",
      "\n",
      "_________________________________\n",
      "Overwrite\n",
      "\n"
     ]
    }
   ],
   "source": [
    "with open('Example2.txt', 'r') as testwritefile:\n",
    "    print(testwritefile.read())\n",
    "with open('Example2.txt', 'w') as writefile:\n",
    "    writefile.write(\"Overwrite\\n\")\n",
    "print(\"_________________________________\")\n",
    "with open('Example2.txt', 'r') as testwritefile:\n",
    "    print(testwritefile.read())\n",
    "\n",
    "\n",
    "\n",
    "### OOOOKKKKKKKK    "
   ]
  },
  {
   "cell_type": "markdown",
   "id": "81f1dfa6-3645-489b-868c-1bf7a6eb591c",
   "metadata": {},
   "source": [
    "<hr>\n",
    "<h2 id=\"Append\">Appending Files (Ajouter des fichiers)</h2>\n"
   ]
  },
  {
   "cell_type": "markdown",
   "id": "42e09469-bdcf-428d-a1fe-7be6a0b10c88",
   "metadata": {},
   "source": [
    " We can write to files without losing any of the existing data as follows by setting the mode argument to append: **a**.  You can append a new line as follows:\n",
    "\n",
    "\n",
    "Nous pouvons écrire dans des fichiers sans perdre aucune des données existantes en définissant l'argument mode sur append : **a**.  Vous pouvez ajouter une nouvelle ligne comme suit :"
   ]
  },
  {
   "cell_type": "code",
   "execution_count": 10,
   "id": "644e30d1-1842-4e58-a0e5-359b9b0c0e2b",
   "metadata": {},
   "outputs": [
    {
     "name": "stdout",
     "output_type": "stream",
     "text": [
      "Overwrite\n",
      "\n",
      "_________________________________\n",
      "Overwrite\n",
      "This is line C\n",
      "This is line D\n",
      "This is line E\n",
      "\n"
     ]
    }
   ],
   "source": [
    "# Write a new line to text file\n",
    "with open('Example2.txt', 'r') as testwritefile:\n",
    "    print(testwritefile.read())\n",
    "\n",
    "    \n",
    "with open('Example2.txt', 'a') as testwritefile:\n",
    "    testwritefile.write(\"This is line C\\n\")\n",
    "    testwritefile.write(\"This is line D\\n\")\n",
    "    testwritefile.write(\"This is line E\\n\")\n",
    "\n",
    "print(\"_________________________________\")\n",
    "with open('Example2.txt', 'r') as testwritefile:\n",
    "    print(testwritefile.read())\n",
    "\n",
    "\n",
    "### OOOOKKKKKKKK"
   ]
  },
  {
   "cell_type": "markdown",
   "id": "f28f0500-7157-46bd-bf45-b10127802215",
   "metadata": {},
   "source": [
    " You can verify the file has changed by running the following cell:\n"
   ]
  },
  {
   "cell_type": "code",
   "execution_count": 11,
   "id": "71b4b1b5-f8f8-4613-8307-f4d1195601e1",
   "metadata": {},
   "outputs": [
    {
     "name": "stdout",
     "output_type": "stream",
     "text": [
      "Overwrite\n",
      "This is line C\n",
      "This is line D\n",
      "This is line E\n",
      "\n"
     ]
    }
   ],
   "source": [
    "# Verify if the new line is in the text file\n",
    "\n",
    "with open('Example2.txt', 'r') as testwritefile:\n",
    "    print(testwritefile.read())\n",
    "\n",
    "\n",
    "### OOOOKKKKKKKK"
   ]
  },
  {
   "cell_type": "markdown",
   "id": "af50f45e-67ce-454b-9c2b-6e8951a68b0b",
   "metadata": {},
   "source": [
    "<hr>\n",
    "<h2 id=\"add\">Additional modes</h2> \n",
    "\n"
   ]
  },
  {
   "cell_type": "markdown",
   "id": "37c76c7d-21d9-49cf-a003-37b354d88ac4",
   "metadata": {},
   "source": [
    "It's fairly inefficient to open the file in **a** or **w** and then reopen it in **r** to read any lines. Luckily we can access the file in the following modes:\n",
    "\n",
    "Il est assez inefficace d'ouvrir le fichier en mode **a** ou **w**, puis de le rouvrir en mode **r** pour lire les lignes. Heureusement, nous pouvons accéder au fichier dans les modes suivants :\n",
    "\n",
    "\n",
    "- **r+** : Reading and writing. Cannot truncate the file.\n",
    "- **w+** : Writing and reading. Truncates the file.\n",
    "- **a+** : Appending and Reading. Creates a new file, if none exists.\n",
    "You dont have to dwell on the specifics of each mode for this lab.\n",
    " \n",
    "(Vous n'avez pas besoin de vous attarder sur les spécificités de chaque mode pour ce laboratoire.)"
   ]
  },
  {
   "cell_type": "markdown",
   "id": "f086768d-e6d1-480e-93a4-550547ee4fd1",
   "metadata": {},
   "source": [
    "Let's try out the __a+__ mode:\n"
   ]
  },
  {
   "cell_type": "code",
   "execution_count": null,
   "id": "90441963-d913-4291-8645-12b623c82d70",
   "metadata": {},
   "outputs": [
    {
     "name": "stdout",
     "output_type": "stream",
     "text": [
      "\n"
     ]
    }
   ],
   "source": [
    "with open('Example2.txt', 'a+') as testwritefile:\n",
    "    testwritefile.write(\"This is line E\\n\") # utilisation de la méthode écriture \n",
    "    print(testwritefile.read()) # utilisation de la méthode de lécture\n",
    "\n",
    "\n",
    "# La methode read n'a pas marché du tt ????????\n",
    "\n",
    "### OOOOKKKKKKKK"
   ]
  },
  {
   "cell_type": "code",
   "execution_count": null,
   "metadata": {},
   "outputs": [
    {
     "name": "stdout",
     "output_type": "stream",
     "text": [
      "Overwrite\n",
      "This is line C\n",
      "This is line D\n",
      "This is line E\n",
      "This is line E\n",
      "\n"
     ]
    }
   ],
   "source": [
    "with open('Example2.txt', 'r') as testwritefile:\n",
    "    print(testwritefile.read())\n",
    "\n",
    "\n",
    "### OOOOKKKKKKKK"
   ]
  },
  {
   "cell_type": "markdown",
   "id": "6d123ecc-604d-49af-937d-63e5dc6ec67a",
   "metadata": {},
   "source": [
    "There were no errors but <code>read()</code> also did not output anything. This is because of our location in the file.\n",
    "\n",
    "\n",
    "Il n'y avait aucune erreur, mais <code>read()</code> n'a rien affiché non plus. Cela est dû à notre emplacement dans le fichier.\n"
   ]
  },
  {
   "cell_type": "markdown",
   "id": "32e9a0be-68e0-4322-a369-63a88c406fe4",
   "metadata": {},
   "source": [
    "Most of the file methods we've looked at work in a certain location in the file. <code>.write() </code> writes at a certain location in the file. <code>.read()</code> reads at a certain location in the file and so on. You can think of this as moving your pointer around in the notepad to make changes at a specific location.\n",
    "\n",
    "\n",
    "La plupart des méthodes de fichiers que nous avons examinées fonctionnent à un emplacement précis dans le fichier. <code>.write() </code> écrit à un emplacement précis dans le fichier. <code>.read()</code> lit à un emplacement précis dans le fichier, et ainsi de suite. Vous pouvez considérer cela comme le déplacement de votre pointeur dans le bloc-notes pour apporter des modifications à un emplacement spécifique."
   ]
  },
  {
   "cell_type": "markdown",
   "id": "9192e144-e919-4032-9e4f-700733fd0453",
   "metadata": {},
   "source": [
    "Opening the file in **w** is akin to opening the .txt file, moving your cursor to the beginning of the text file, writing new text and deleting everything that follows.\n",
    "Whereas opening the file in **a** is similar to opening the .txt file, moving your cursor to the very end and then adding the new pieces of text. <br>\n",
    "It is often very useful to know where the 'cursor' is in a file and be able to control it. The following methods allow us to do precisely this\n",
    "\n",
    "\n",
    "\n",
    "Ouvrir le fichier dans **w** revient à ouvrir le fichier .txt, à déplacer le curseur au début du fichier texte, à écrire un nouveau texte et à supprimer tout ce qui suit.\n",
    "Ouvrir le fichier dans **a** revient à ouvrir le fichier .txt, à déplacer le curseur à la fin du fichier, puis à ajouter le nouveau texte. <br>\n",
    "Il est souvent très utile de savoir où se trouve le « curseur » dans un fichier et de pouvoir le contrôler. Les méthodes suivantes nous permettent précisément de le faire.\n",
    "\n",
    "\n",
    "- <code>.tell()</code> - returns the current position in bytes\n",
    "- <code>.seek(offset,from)</code> - changes the position by 'offset' bytes with respect to 'from'. From can take the value of 0,1,2 corresponding to the beginning, relative to current position and end\n",
    "\n",
    "modifie la position de « offset » octets par rapport à « from ». From peut prendre la valeur 0, 1 ou 2 correspondant au début, par rapport à la position actuelle et à la fin."
   ]
  },
  {
   "cell_type": "markdown",
   "id": "791e6013-c886-46fa-874a-ba2e2f8db911",
   "metadata": {},
   "source": [
    "Now lets revisit **a+**\n"
   ]
  },
  {
   "cell_type": "code",
   "execution_count": null,
   "id": "4e2f082b-660a-4def-827b-d28640c92920",
   "metadata": {},
   "outputs": [
    {
     "name": "stdout",
     "output_type": "stream",
     "text": [
      "Initial Location: 75\n",
      "Read nothing\n",
      "\n",
      "New Location : 0\n",
      "Overwrite\n",
      "This is line C\n",
      "This is line D\n",
      "This is line E\n",
      "This is line E\n",
      "\n",
      "Location after read: 75\n"
     ]
    }
   ],
   "source": [
    "with open('Example2.txt', 'a+') as testwritefile:\n",
    "    print(\"Initial Location: {}\".format(testwritefile.tell()))\n",
    "    \n",
    "    data = testwritefile.read()\n",
    "    if (not data):  #empty strings return false in python\n",
    "            print('Read nothing') \n",
    "    else: \n",
    "            print(testwritefile.read())\n",
    "            \n",
    "    testwritefile.seek(0,0) # move 0 bytes from beginning.\n",
    "    \n",
    "    print(\"\\nNew Location : {}\".format(testwritefile.tell()))\n",
    "    data = testwritefile.read()\n",
    "    if (not data): \n",
    "            print('Read nothing') \n",
    "    else: \n",
    "            print(data)\n",
    "    \n",
    "    print(\"Location after read: {}\".format(testwritefile.tell()) )\n",
    "\n",
    "### OOOOKKKKKKKK"
   ]
  },
  {
   "cell_type": "markdown",
   "id": "33935fea-1417-4b5d-9d38-1301db901b75",
   "metadata": {},
   "source": [
    "Finally, a note on the difference between **w+** and **r+**. Both of these modes allow access to read and write methods; however, opening a file in **w+** overwrites it and deletes all pre-existing data. <br>\n",
    "\n",
    "\n",
    "Enfin, une remarque sur la différence entre **w+** et **r+**. Ces deux modes permettent d'accéder aux méthodes de lecture et d'écriture ; cependant, l'ouverture d'un fichier en **w+** le remplace et supprime toutes les données préexistantes.\n"
   ]
  },
  {
   "cell_type": "code",
   "execution_count": null,
   "id": "0d9871f0-ef6c-4c9d-af5a-f3a0b99ba90b",
   "metadata": {},
   "outputs": [
    {
     "name": "stdout",
     "output_type": "stream",
     "text": [
      "Line 1\n",
      "Line 2\n",
      "Line 3\n",
      "Line 4\n",
      "finished\n",
      "\n",
      "This is line E\n",
      "This is line E\n",
      "\n"
     ]
    }
   ],
   "source": [
    "with open('Example2.txt', 'r+') as testwritefile:\n",
    "    testwritefile.seek(0,0) #write at beginning of file\n",
    "   \n",
    "    testwritefile.write(\"Line 1\" + \"\\n\")\n",
    "    testwritefile.write(\"Line 2\" + \"\\n\")\n",
    "    testwritefile.write(\"Line 3\" + \"\\n\")\n",
    "    testwritefile.write(\"Line 4\" + \"\\n\")\n",
    "    testwritefile.write(\"finished\\n\")\n",
    "    testwritefile.seek(0,0)\n",
    "    print(testwritefile.read())\n",
    "\n",
    "\n",
    "### OOOOKKKKKKKK"
   ]
  },
  {
   "cell_type": "markdown",
   "id": "c1c724af-9f6e-4e67-8468-2627e9292d8b",
   "metadata": {},
   "source": [
    "To work with a file on existing data, use **r+** and **a+**. While using **r+**, it can be useful to add a <code>.truncate()</code> method at the end of your data. This will reduce the file to your data and delete everything that follows. <br>\n",
    "\n",
    "\n",
    "Pour travailler avec un fichier contenant des données existantes, utilisez **r+** et **a+**. Lorsque vous utilisez **r+**, il peut être utile d'ajouter une méthode <code>.truncate()</code> à la fin de vos données. Cela réduira le fichier à vos données et supprimera tout ce qui suit. <br>\n"
   ]
  },
  {
   "cell_type": "code",
   "execution_count": null,
   "id": "a9665fa2-09cf-4da9-8e6d-d24d7ebc50c6",
   "metadata": {},
   "outputs": [
    {
     "name": "stdout",
     "output_type": "stream",
     "text": [
      "Line 1\n",
      "Line 2\n",
      "Line 3\n",
      "Line 4\n",
      "finished\n",
      "\n"
     ]
    }
   ],
   "source": [
    "with open('Example2.txt', 'r+') as testwritefile:\n",
    "    testwritefile.seek(0,0) #write at beginning of file\n",
    "   \n",
    "    testwritefile.write(\"Line 1\" + \"\\n\")\n",
    "    testwritefile.write(\"Line 2\" + \"\\n\")\n",
    "    testwritefile.write(\"Line 3\" + \"\\n\")\n",
    "    testwritefile.write(\"Line 4\" + \"\\n\")\n",
    "    testwritefile.write(\"finished\\n\")\n",
    "    testwritefile.truncate()\n",
    "    testwritefile.seek(0,0)\n",
    "    print(testwritefile.read())\n",
    "\n",
    "\n",
    "### OOOOKKKKKKKK\n",
    "    "
   ]
  },
  {
   "cell_type": "markdown",
   "id": "f78991f2-d3d9-4a74-b8b5-8556942288ff",
   "metadata": {},
   "source": [
    "<hr>\n"
   ]
  },
  {
   "cell_type": "markdown",
   "id": "3e4c33d1-390d-48e5-8fe5-fb08cae63a9f",
   "metadata": {},
   "source": [
    "<h2 id=\"copy\">Copy a File</h2> \n"
   ]
  },
  {
   "cell_type": "markdown",
   "id": "9f31a38d-f2fb-4786-8a16-2d8b202a0fd7",
   "metadata": {},
   "source": [
    "Let's copy the file **Example2.txt** to the file **Example3.txt**:\n",
    "\n",
    "Copions le fichier **Example2.txt** dans le fichier **Example3.txt** :\n"
   ]
  },
  {
   "cell_type": "code",
   "execution_count": 17,
   "id": "3f53fc09-de21-4ab5-93b3-6f0f07667309",
   "metadata": {},
   "outputs": [
    {
     "name": "stdout",
     "output_type": "stream",
     "text": [
      "Line 1\n",
      "\n",
      "Line 2\n",
      "\n",
      "Line 3\n",
      "\n",
      "Line 4\n",
      "\n",
      "finished\n",
      "\n"
     ]
    }
   ],
   "source": [
    "# Copy file to another\n",
    "\n",
    "with open('Example2.txt','r') as readfile:\n",
    "    with open('Example3.txt','w') as writefile:\n",
    "          for line in readfile:\n",
    "                print(line)\n",
    "                writefile.write(line)"
   ]
  },
  {
   "cell_type": "markdown",
   "id": "0ff282b4-3f11-4343-9ddd-59ca1c2cf6b5",
   "metadata": {},
   "source": [
    "We can read the file to see if everything works:\n"
   ]
  },
  {
   "cell_type": "code",
   "execution_count": 18,
   "id": "fc0834bb-078c-4e75-b4d9-f22a93f564fb",
   "metadata": {},
   "outputs": [
    {
     "name": "stdout",
     "output_type": "stream",
     "text": [
      "Line 1\n",
      "Line 2\n",
      "Line 3\n",
      "Line 4\n",
      "finished\n",
      "\n"
     ]
    }
   ],
   "source": [
    "# Verify if the copy is successfully executed\n",
    "\n",
    "with open('Example3.txt','r') as testwritefile:\n",
    "    print(testwritefile.read())"
   ]
  },
  {
   "cell_type": "markdown",
   "id": "bd7e5f1a-624f-4768-9ff6-d3073b6edf52",
   "metadata": {},
   "source": [
    " After reading files, we can also write data into files and save them in different file formats like **.txt, .csv, .xls (for excel files) etc**. You will come across these in further examples\n",
    "\n",
    "\n",
    " Après avoir lu des fichiers, nous pouvons également écrire des données dans des fichiers et les enregistrer dans différents formats tels que **.txt, .csv, .xls (pour les fichiers Excel), etc.** Vous les retrouverez dans d'autres exemples.\n"
   ]
  },
  {
   "cell_type": "markdown",
   "id": "3692afc8-09d2-4f28-83dd-50a34ee90b49",
   "metadata": {},
   "source": [
    "**NOTE:** If you wish to open and view the `example3.txt` file, download this lab [here](https://cf-courses-data.s3.us.cloud-object-storage.appdomain.cloud/IBMDeveloperSkillsNetwork-PY0101EN-SkillsNetwork/labs/Module%204/PY0101EN-4-2-WriteFile.ipynb) and run it locally on your machine. Then go to the working directory to ensure the `example3.txt` file exists and contains the summary data that we wrote.\n",
    "\n",
    "\n",
    "\n",
    "**REMARQUE :** Si vous souhaitez ouvrir et consulter le fichier « example3.txt », téléchargez ce laboratoire [ici](https://cf-courses-data.s3.us. cloud-object-storage.appdomain.cloud/IBMDeveloperSkillsNetwork-PY0101EN-SkillsNetwork/labs/Module%204/PY0101EN-4-2-WriteFile.ipynb) et exécutez-le localement sur votre machine. Accédez ensuite au répertoire de travail pour vous assurer que le fichier `example3.txt` existe et contient les données récapitulatives que nous avons écrites."
   ]
  },
  {
   "cell_type": "markdown",
   "id": "d18b0ed1-6d85-4fb1-8422-882884e6c146",
   "metadata": {},
   "source": [
    "<hr>\n"
   ]
  },
  {
   "cell_type": "markdown",
   "id": "a3c9eabd-2e1d-465f-b41a-42e7f7364d3e",
   "metadata": {},
   "source": [
    "<h2> Exercise </h2>\n"
   ]
  },
  {
   "cell_type": "markdown",
   "id": "4bdfbf43-7635-4347-b758-76e0301bfcbc",
   "metadata": {},
   "source": [
    "Your local university's Raptors fan club maintains a register of its active members on a .txt document. Every month they update the file by removing the members who are not active. You have been tasked with automating this with your Python skills. <br>\n",
    "\n",
    "\n",
    "Le fan club des Raptors de votre université locale tient à jour un registre de ses membres actifs dans un fichier .txt. Chaque mois, il met à jour ce fichier en supprimant les membres qui ne sont plus actifs. Vous avez été chargé d'automatiser cette tâche grâce à vos compétences en Python. <br>\n",
    "\n",
    "Given the file `currentMem`, Remove each member with a 'no' in their Active column. Keep track of each of the removed members and append them to the `exMem` file. Make sure that the format of the original files in preserved.   (*Hint: Do this by reading/writing whole lines and ensuring the header remains* )\n",
    "<br>\n",
    "\n",
    "Étant donné le fichier `currentMem`, supprimez chaque membre dont la colonne Active contient « no ». Conservez une trace de chacun des membres supprimés et ajoutez-les au fichier `exMem`. Veillez à conserver le format des fichiers d'origine.   (*Astuce : pour ce faire, lisez/écrivez des lignes entières et assurez-vous que l'en-tête reste intact* ) \n",
    "<br>\n",
    "\n",
    "\n",
    "Run the code block below prior to starting the exercise. The skeleton code has been provided for you. Edit only the `cleanFiles` function.\n",
    "\n",
    "Exécutez le bloc de code ci-dessous avant de commencer l'exercice. Le code squelette vous a été fourni. Modifiez uniquement la fonction `cleanFiles`.\n",
    "\n",
    "\n"
   ]
  },
  {
   "cell_type": "code",
   "execution_count": 19,
   "id": "f97c51a0-e79b-4ef7-a17f-d39a17a03a27",
   "metadata": {},
   "outputs": [],
   "source": [
    "#Run this prior to starting the exercise\n",
    "from random import randint as rnd\n",
    "\n",
    "memReg = 'members.txt'\n",
    "exReg = 'inactive.txt'\n",
    "fee =('yes','no')\n",
    "\n",
    "def genFiles(current,old):\n",
    "    with open(current,'w+') as writefile: \n",
    "        writefile.write('Membership No  Date Joined  Active  \\n')\n",
    "        data = \"{:^13}  {:<11}  {:<6}\\n\"\n",
    "\n",
    "        for rowno in range(20):\n",
    "            date = str(rnd(2015,2020))+ '-' + str(rnd(1,12))+'-'+str(rnd(1,25))\n",
    "            writefile.write(data.format(rnd(10000,99999),date,fee[rnd(0,1)]))\n",
    "\n",
    "\n",
    "    with open(old,'w+') as writefile: \n",
    "        writefile.write('Membership No  Date Joined  Active  \\n')\n",
    "        data = \"{:^13}  {:<11}  {:<6}\\n\"\n",
    "        for rowno in range(3):\n",
    "            date = str(rnd(2015,2020))+ '-' + str(rnd(1,12))+'-'+str(rnd(1,25))\n",
    "            writefile.write(data.format(rnd(10000,99999),date,fee[1]))\n",
    "\n",
    "\n",
    "genFiles(memReg,exReg)\n"
   ]
  },
  {
   "cell_type": "markdown",
   "id": "6f922d4e-aad7-45cd-8e6e-f293128f44f4",
   "metadata": {},
   "source": [
    "Now that you've run the prerequisite code cell above, which prepared the files for this exercise, you are ready to move on to the implementation.\n",
    "\n",
    "Maintenant que vous avez exécuté la cellule de code préalable ci-dessus, qui a préparé les fichiers pour cet exercice, vous êtes prêt à passer à la mise en œuvre.\n",
    "\n",
    "#### **Exercise:** Implement the cleanFiles function in the code cell below.\n",
    "\n",
    "\n",
    "# hard"
   ]
  },
  {
   "cell_type": "code",
   "execution_count": null,
   "id": "7476e437-e11d-4097-ae7b-46fc226ded45",
   "metadata": {},
   "outputs": [
    {
     "name": "stdout",
     "output_type": "stream",
     "text": [
      "<class 'str'>\n"
     ]
    }
   ],
   "source": [
    "  \n",
    "'''\n",
    "The two arguments for this function are the files:\n",
    "    - currentMem: File containing list of current members\n",
    "    - exMem: File containing list of old members\n",
    "    \n",
    "    This function should remove all rows from currentMem containing 'no' \n",
    "    in the 'Active' column and appends them to exMem.\n",
    "    '''\n",
    "def cleanFiles(currentMem, exMem):\n",
    "    # TODO: Open the currentMem file as in r+ mode\n",
    "    with open(currentMem,'r+') as current_members:\n",
    "        #TODO: Open the exMem file in a+ mode\n",
    "        with open(exMem,'a+') as old_members:\n",
    "\n",
    "        #TODO: Read each member in the currentMem (1 member per row) file into a list.\n",
    "        # Lisez chaque membre du fichier currentMem (1 membre par ligne) dans une liste.\n",
    "        # Hint: Recall that the first line in the file is the header.\n",
    "            FileasList = current_members.readlines()\n",
    "            for i in range(1,len(FileasList)):\n",
    "                print(FileasList[i])\n",
    "\n",
    "\n",
    "\n",
    "        #TODO: iterate through the members and create a new list of the innactive members\n",
    "        # Parcourir les membres et créer une nouvelle liste des membres inactifs.\n",
    "\n",
    "        # Go to the beginning of the currentMem file\n",
    "        current_members.seek(0,0) #write at beginning of file\n",
    "        # TODO: Iterate through the members list. \n",
    "        # If a member is inactive, add them to exMem, otherwise write them into currentMem\n",
    "\n",
    "        \n",
    "    \n",
    "    pass # Remove this line when done implementation\n",
    "\n",
    "\n",
    "# The code below is to help you view the files.\n",
    "# Do not modify this code for this exercise.\n",
    "memReg = 'members.txt'\n",
    "exReg = 'inactive.txt'\n",
    "cleanFiles(memReg,exReg)\n",
    "\n",
    "\n",
    "headers = \"Membership No  Date Joined  Active  \\n\"\n",
    "with open(memReg,'r') as readFile:\n",
    "    print(\"Active Members: \\n\\n\")\n",
    "    print(readFile.read())\n",
    "    \n",
    "with open(exReg,'r') as readFile:\n",
    "    print(\"Inactive Members: \\n\\n\")\n",
    "    print(readFile.read())\n",
    "                \n",
    "    "
   ]
  },
  {
   "cell_type": "markdown",
   "id": "091f25e1-f631-4de4-a963-276f2e30a2a5",
   "metadata": {},
   "source": [
    "The code cell below is to verify your solution. Please do not modify the code and run it to test your implementation of `cleanFiles`.\n",
    "\n",
    "\n",
    "La cellule de code ci-dessous sert à vérifier votre solution. Veuillez ne pas modifier le code et l'exécuter pour tester votre implémentation de `cleanFiles`.\n"
   ]
  },
  {
   "cell_type": "code",
   "execution_count": null,
   "id": "8c8da530-7230-4116-90d7-7aaa3960f517",
   "metadata": {},
   "outputs": [],
   "source": [
    "def testMsg(passed):\n",
    "    if passed:\n",
    "       return 'Test Passed'\n",
    "    else :\n",
    "       return 'Test Failed'\n",
    "\n",
    "testWrite = \"testWrite.txt\"\n",
    "testAppend = \"testAppend.txt\" \n",
    "passed = True\n",
    "\n",
    "genFiles(testWrite,testAppend)\n",
    "\n",
    "with open(testWrite,'r') as file:\n",
    "    ogWrite = file.readlines()\n",
    "\n",
    "with open(testAppend,'r') as file:\n",
    "    ogAppend = file.readlines()\n",
    "\n",
    "try:\n",
    "    cleanFiles(testWrite,testAppend)\n",
    "except:\n",
    "    print('Error')\n",
    "\n",
    "with open(testWrite,'r') as file:\n",
    "    clWrite = file.readlines()\n",
    "\n",
    "with open(testAppend,'r') as file:\n",
    "    clAppend = file.readlines()\n",
    "        \n",
    "# checking if total no of rows is same, including headers\n",
    "\n",
    "if (len(ogWrite) + len(ogAppend) != len(clWrite) + len(clAppend)):\n",
    "    print(\"The number of rows do not add up. Make sure your final files have the same header and format.\")\n",
    "    passed = False\n",
    "    \n",
    "for line in clWrite:\n",
    "    if  'no' in line:\n",
    "        passed = False\n",
    "        print(\"Inactive members in file\")\n",
    "        break\n",
    "    else:\n",
    "        if line not in ogWrite:\n",
    "            print(\"Data in file does not match original file\")\n",
    "            passed = False\n",
    "print (\"{}\".format(testMsg(passed)))\n",
    "    \n",
    "\n"
   ]
  },
  {
   "cell_type": "markdown",
   "id": "9e894093-450c-4d94-8f6b-1c00b25122dc",
   "metadata": {},
   "source": [
    "<details><summary>Click here for the solution</summary>\n",
    "\n",
    "```python\n",
    "def cleanFiles(currentMem,exMem):\n",
    "    with open(currentMem,'r+') as writeFile: \n",
    "        with open(exMem,'a+') as appendFile:\n",
    "            #get the data\n",
    "            writeFile.seek(0)\n",
    "            members = writeFile.readlines()\n",
    "            #remove header\n",
    "            header = members[0]\n",
    "            members.pop(0)\n",
    "                \n",
    "            inactive = [member for member in members if ('no' in member)]\n",
    "            '''\n",
    "            The above is the same as \n",
    "\n",
    "            for member in members:\n",
    "            if 'no' in member:\n",
    "                inactive.append(member)\n",
    "            '''\n",
    "            #go to the beginning of the write file\n",
    "            writeFile.seek(0) \n",
    "            writeFile.write(header)\n",
    "            for member in members:\n",
    "                if (member in inactive):\n",
    "                    appendFile.write(member)\n",
    "                else:\n",
    "                    writeFile.write(member)      \n",
    "            writeFile.truncate()\n",
    "                \n",
    "memReg = 'members.txt'\n",
    "exReg = 'inactive.txt'\n",
    "cleanFiles(memReg,exReg)\n",
    "\n",
    "# code to help you see the files\n",
    "\n",
    "headers = \"Membership No  Date Joined  Active  \\n\"\n",
    "\n",
    "with open(memReg,'r') as readFile:\n",
    "    print(\"Active Members: \\n\\n\")\n",
    "    print(readFile.read())\n",
    "    \n",
    "with open(exReg,'r') as readFile:\n",
    "    print(\"Inactive Members: \\n\\n\")\n",
    "    print(readFile.read())\n",
    "    \n",
    "```\n",
    "\n",
    "</details>\n",
    "\n",
    "    \n"
   ]
  },
  {
   "cell_type": "code",
   "execution_count": 38,
   "metadata": {},
   "outputs": [
    {
     "name": "stdout",
     "output_type": "stream",
     "text": [
      "Active Members: \n",
      "\n",
      "\n",
      "Membership No  Date Joined  Active  \n",
      "    24946      2016-6-2     yes   \n",
      "    75439      2017-8-11    yes   \n",
      "    51348      2015-6-9     yes   \n",
      "    87932      2020-2-22    yes   \n",
      "    24220      2018-12-4    yes   \n",
      "    45240      2020-7-25    yes   \n",
      "    82048      2020-4-8     yes   \n",
      "    26067      2015-7-23    yes   \n",
      "    10397      2020-2-17    yes   \n",
      "    41084      2016-1-10    yes   \n",
      "    12660      2015-10-22   yes   \n",
      "    71764      2016-6-10    yes   \n",
      "\n",
      "Inactive Members: \n",
      "\n",
      "\n",
      "Membership No  Date Joined  Active  \n",
      "    87543      2020-11-20   no    \n",
      "    70089      2016-8-2     no    \n",
      "    63854      2019-11-11   no    \n",
      "    44088      2016-8-12    no    \n",
      "    94545      2019-11-22   no    \n",
      "    51375      2016-2-21    no    \n",
      "    92246      2019-7-15    no    \n",
      "    93097      2018-11-9    no    \n",
      "    91766      2020-8-11    no    \n",
      "    46388      2019-4-12    no    \n",
      "    44264      2017-6-9     no    \n",
      "\n"
     ]
    }
   ],
   "source": [
    "def cleanFiles(currentMem,exMem):\n",
    "    with open(currentMem,'r+') as writeFile: \n",
    "        with open(exMem,'a+') as appendFile:\n",
    "            #get the data\n",
    "            writeFile.seek(0)\n",
    "            members = writeFile.readlines()\n",
    "            #remove header\n",
    "            header = members[0]\n",
    "            members.pop(0)\n",
    "                \n",
    "            inactive = [member for member in members if ('no' in member)]\n",
    "            '''\n",
    "            The above is the same as \n",
    "\n",
    "            for member in members:\n",
    "            if 'no' in member:\n",
    "                inactive.append(member)\n",
    "            '''\n",
    "            #go to the beginning of the write file\n",
    "            writeFile.seek(0) \n",
    "            writeFile.write(header)\n",
    "            for member in members:\n",
    "                if (member in inactive):\n",
    "                    appendFile.write(member)\n",
    "                else:\n",
    "                    writeFile.write(member)      \n",
    "            writeFile.truncate()\n",
    "                \n",
    "memReg = 'members.txt'\n",
    "exReg = 'inactive.txt'\n",
    "cleanFiles(memReg,exReg)\n",
    "\n",
    "\n",
    "# code to help you see the files\n",
    "\n",
    "headers = \"Membership No  Date Joined  Active  \\n\"\n",
    "\n",
    "with open(memReg,'r') as readFile:\n",
    "    print(\"Active Members: \\n\\n\")\n",
    "    print(readFile.read())\n",
    "    \n",
    "with open(exReg,'r') as readFile:\n",
    "    print(\"Inactive Members: \\n\\n\")\n",
    "    print(readFile.read())\n"
   ]
  },
  {
   "cell_type": "code",
   "execution_count": 39,
   "metadata": {},
   "outputs": [
    {
     "name": "stdout",
     "output_type": "stream",
     "text": [
      "Test Passed\n"
     ]
    }
   ],
   "source": [
    "def testMsg(passed):\n",
    "    if passed:\n",
    "       return 'Test Passed'\n",
    "    else :\n",
    "       return 'Test Failed'\n",
    "\n",
    "testWrite = \"testWrite.txt\"\n",
    "testAppend = \"testAppend.txt\" \n",
    "passed = True\n",
    "\n",
    "genFiles(testWrite,testAppend)\n",
    "\n",
    "with open(testWrite,'r') as file:\n",
    "    ogWrite = file.readlines()\n",
    "\n",
    "with open(testAppend,'r') as file:\n",
    "    ogAppend = file.readlines()\n",
    "\n",
    "try:\n",
    "    cleanFiles(testWrite,testAppend)\n",
    "except:\n",
    "    print('Error')\n",
    "\n",
    "with open(testWrite,'r') as file:\n",
    "    clWrite = file.readlines()\n",
    "\n",
    "with open(testAppend,'r') as file:\n",
    "    clAppend = file.readlines()\n",
    "        \n",
    "# checking if total no of rows is same, including headers\n",
    "\n",
    "if (len(ogWrite) + len(ogAppend) != len(clWrite) + len(clAppend)):\n",
    "    print(\"The number of rows do not add up. Make sure your final files have the same header and format.\")\n",
    "    passed = False\n",
    "    \n",
    "for line in clWrite:\n",
    "    if  'no' in line:\n",
    "        passed = False\n",
    "        print(\"Inactive members in file\")\n",
    "        break\n",
    "    else:\n",
    "        if line not in ogWrite:\n",
    "            print(\"Data in file does not match original file\")\n",
    "            passed = False\n",
    "print (\"{}\".format(testMsg(passed)))"
   ]
  },
  {
   "cell_type": "markdown",
   "id": "d2ca4838-e809-4cd5-9b4e-687f342edc3a",
   "metadata": {},
   "source": [
    "<hr>\n",
    "<h2>The last exercise!</h2>\n",
    "<p>Congratulations, you have completed this lesson and hands-on lab in Python. \n",
    "<hr>\n"
   ]
  },
  {
   "cell_type": "markdown",
   "id": "a3292cd9-9d47-426b-b252-993fc0436fa5",
   "metadata": {},
   "source": [
    "## Author\n",
    "\n",
    "<a href=\"https://www.linkedin.com/in/joseph-s-50398b136/\" target=\"_blank\">Joseph Santarcangelo</a>\n",
    "\n",
    "\n",
    "### Other Contributors\n",
    "<a href=\"www.linkedin.com/in/jiahui-mavis-zhou-a4537814a\">Mavis Zhou</a>\n",
    "\n",
    "\n",
    "## Change Log\n",
    "\n",
    "\n",
    "|  Date (YYYY-MM-DD) |  Version | Changed By  |  Change Description |\n",
    "|---|---|---|---|\n",
    "| 2023-11-02 | 2.2 | Abhishek Gagneja | Updated instructions |\n",
    "| 2022-01-10  | 2.1  | Malika  | Removed the readme for GitShare|\n",
    "| 2020-10-16  | 1.3  | Arjun Swani  |  Added exercise |\n",
    "| 2020-10-16  | 1.2  | Arjun Swani  |  Added section additional file modes |\n",
    "| 2020-10-16  | 1.1  | Arjun Swani |  Made append a different section |\n",
    "| 2020-08-28  | 0.2  | Lavanya  |  Moved lab to course repo in GitLab |\n",
    "\n",
    "\n",
    "\n",
    "<hr>\n",
    "\n",
    "## <h3 align=\"center\"> © IBM Corporation 2020. All rights reserved. <h3/>\n"
   ]
  },
  {
   "cell_type": "code",
   "execution_count": null,
   "id": "54543715-b558-4432-a425-fd4ac9be7e24",
   "metadata": {},
   "outputs": [],
   "source": []
  }
 ],
 "metadata": {
  "kernelspec": {
   "display_name": "Python 3",
   "language": "python",
   "name": "python3"
  },
  "language_info": {
   "codemirror_mode": {
    "name": "ipython",
    "version": 3
   },
   "file_extension": ".py",
   "mimetype": "text/x-python",
   "name": "python",
   "nbconvert_exporter": "python",
   "pygments_lexer": "ipython3",
   "version": "3.13.5"
  }
 },
 "nbformat": 4,
 "nbformat_minor": 4
}
